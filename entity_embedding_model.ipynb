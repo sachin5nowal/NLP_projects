{
  "nbformat": 4,
  "nbformat_minor": 0,
  "metadata": {
    "colab": {
      "name": "baseline_neural_network_model.ipynb",
      "provenance": [],
      "collapsed_sections": [],
      "authorship_tag": "ABX9TyM2+KuHrEptDxmpe2FFBxIW"
    },
    "kernelspec": {
      "name": "python3",
      "display_name": "Python 3"
    }
  },
  "cells": [
    {
      "cell_type": "code",
      "metadata": {
        "id": "Zxd9ogSFo6il",
        "colab_type": "code",
        "colab": {}
      },
      "source": [
        "import numpy as np\n",
        "import pandas as pd\n",
        "import os\n",
        "from sklearn.preprocessing import StandardScaler\n",
        "from sklearn.model_selection import train_test_split\n",
        "from sklearn import preprocessing\n",
        "from sklearn.metrics import r2_score,mean_absolute_error"
      ],
      "execution_count": 0,
      "outputs": []
    },
    {
      "cell_type": "code",
      "metadata": {
        "id": "oTCDhrc6CLox",
        "colab_type": "code",
        "outputId": "a4fb705b-0610-452e-9cc0-b922a1c77c4b",
        "colab": {
          "base_uri": "https://localhost:8080/",
          "height": 36
        }
      },
      "source": [
        "%tensorflow_version 2.x\n",
        "import tensorflow as tf\n",
        "\n",
        "from tensorflow.keras.layers import concatenate,Input, Dense ,Dropout\n",
        "from tensorflow.keras import Model\n",
        "from tensorflow.keras.utils import plot_model\n",
        "from tensorflow.keras.callbacks import EarlyStopping\n",
        "from tensorflow.keras import regularizers\n"
      ],
      "execution_count": 0,
      "outputs": [
        {
          "output_type": "stream",
          "text": [
            "TensorFlow 2.x selected.\n"
          ],
          "name": "stdout"
        }
      ]
    },
    {
      "cell_type": "code",
      "metadata": {
        "id": "OGMtk6Qto8U0",
        "colab_type": "code",
        "outputId": "6633b697-a448-4cad-f7d4-7971f73f0466",
        "colab": {
          "base_uri": "https://localhost:8080/",
          "height": 36
        }
      },
      "source": [
        "from google.colab import drive \n",
        "drive.mount('/content/gdrive')\n",
        "df=pd.read_csv(\"gdrive/My Drive/forecasting/base_promo_trainset.csv\")\n",
        "# df_test=pd.read_csv(\"gdrive/My Drive/forecasting/base_promo_testset.csv\")"
      ],
      "execution_count": 0,
      "outputs": [
        {
          "output_type": "stream",
          "text": [
            "Drive already mounted at /content/gdrive; to attempt to forcibly remount, call drive.mount(\"/content/gdrive\", force_remount=True).\n"
          ],
          "name": "stdout"
        }
      ]
    },
    {
      "cell_type": "code",
      "metadata": {
        "id": "yYzaMvUJhEC0",
        "colab_type": "code",
        "colab": {}
      },
      "source": [
        "#Metrics\n",
        "#RMSE\n",
        "def rmse(y_true,y_pred):\n",
        "  return r2_score(y_true, y_pred)\n",
        "def MAE(y_true,y_pred):\n",
        "  return mean_absolute_error\n",
        "def MAPE(y_true,y_pred):\n",
        "  return np.mean(np.abs((y_true - y_pred) / y_true)) * 100"
      ],
      "execution_count": 0,
      "outputs": []
    },
    {
      "cell_type": "code",
      "metadata": {
        "id": "P3WcNCJdqPAe",
        "colab_type": "code",
        "colab": {}
      },
      "source": [
        "msk = np.random.rand(len(df)) < 0.8\n",
        "df_train = df[msk]\n",
        "df_test = df[~msk]"
      ],
      "execution_count": 0,
      "outputs": []
    },
    {
      "cell_type": "code",
      "metadata": {
        "id": "mMMqQxjgqYTd",
        "colab_type": "code",
        "outputId": "49b6d65e-635f-40d9-aac8-eda0aed3ea0a",
        "colab": {
          "base_uri": "https://localhost:8080/",
          "height": 36
        }
      },
      "source": [
        "df_test[\"MAG\"].unique()"
      ],
      "execution_count": 0,
      "outputs": [
        {
          "output_type": "execute_result",
          "data": {
            "text/plain": [
              "array(['E01', 'E15', 'W91', 'M41', 'I26', 'I36'], dtype=object)"
            ]
          },
          "metadata": {
            "tags": []
          },
          "execution_count": 6
        }
      ]
    },
    {
      "cell_type": "code",
      "metadata": {
        "id": "gfxJFIvRxr9f",
        "colab_type": "code",
        "outputId": "73472805-403d-4cc0-f9d6-0ee15ea3df12",
        "colab": {
          "base_uri": "https://localhost:8080/",
          "height": 131
        }
      },
      "source": [
        "df_train.drop([\"account_id\",\"date_id\"],inplace=True,axis=1)\n",
        "df_test.drop([\"account_id\",\"date_id\"],inplace=True,axis=1)\n"
      ],
      "execution_count": 0,
      "outputs": [
        {
          "output_type": "stream",
          "text": [
            "/usr/local/lib/python3.6/dist-packages/pandas/core/frame.py:4117: SettingWithCopyWarning: \n",
            "A value is trying to be set on a copy of a slice from a DataFrame\n",
            "\n",
            "See the caveats in the documentation: http://pandas.pydata.org/pandas-docs/stable/user_guide/indexing.html#returning-a-view-versus-a-copy\n",
            "  errors=errors,\n"
          ],
          "name": "stderr"
        }
      ]
    },
    {
      "cell_type": "code",
      "metadata": {
        "id": "fgncWln2bNGa",
        "colab_type": "code",
        "outputId": "5bb86fb8-4f40-4c8f-818c-98ea3dadc5b0",
        "colab": {
          "base_uri": "https://localhost:8080/",
          "height": 262
        }
      },
      "source": [
        "mag_replace_dict=dict(zip(list((df_train['MAG'].unique())), list(range(len(df_train['MAG'].unique())))))\n",
        "df_train[\"MAG\"]=df_train[\"MAG\"].replace(mag_replace_dict)\n",
        "df_test[\"MAG\"]=df_test[\"MAG\"].replace(mag_replace_dict)\n"
      ],
      "execution_count": 0,
      "outputs": [
        {
          "output_type": "stream",
          "text": [
            "/usr/local/lib/python3.6/dist-packages/ipykernel_launcher.py:2: SettingWithCopyWarning: \n",
            "A value is trying to be set on a copy of a slice from a DataFrame.\n",
            "Try using .loc[row_indexer,col_indexer] = value instead\n",
            "\n",
            "See the caveats in the documentation: http://pandas.pydata.org/pandas-docs/stable/user_guide/indexing.html#returning-a-view-versus-a-copy\n",
            "  \n",
            "/usr/local/lib/python3.6/dist-packages/ipykernel_launcher.py:3: SettingWithCopyWarning: \n",
            "A value is trying to be set on a copy of a slice from a DataFrame.\n",
            "Try using .loc[row_indexer,col_indexer] = value instead\n",
            "\n",
            "See the caveats in the documentation: http://pandas.pydata.org/pandas-docs/stable/user_guide/indexing.html#returning-a-view-versus-a-copy\n",
            "  This is separate from the ipykernel package so we can avoid doing imports until\n"
          ],
          "name": "stderr"
        }
      ]
    },
    {
      "cell_type": "code",
      "metadata": {
        "id": "ZwFgfroaRdBt",
        "colab_type": "code",
        "colab": {}
      },
      "source": [
        "def preprocess_data(dataset):\n",
        "\n",
        "  product_id=tf.cast(dataset['product_id'],dtype=tf.float32)\n",
        "  MAG=tf.cast(dataset['MAG'],dtype=tf.float32)\n",
        "  AG=tf.cast(dataset['AG'],dtype=tf.float32)\n",
        "  promo_flag=tf.cast(dataset['promo_flag'],dtype=tf.float32)\n",
        "  promo_discount_perc=tf.cast(dataset['promo_discount_perc'],dtype=tf.float32)\n",
        "  base_demand=tf.cast(dataset['base_demand'],dtype=tf.float32)\n",
        "  ordered_units=tf.cast(dataset['ordered_units'],dtype=tf.float32)\n",
        "  num_dat=tf.stack([promo_flag,promo_discount_perc,base_demand],axis=1)\n",
        "  # X=MAG,AG,product_id,promo_flag,promo_discount_perc,base_demand\n",
        "\n",
        "  X=MAG,AG,product_id,num_dat\n",
        "  y=ordered_units \n",
        "  # X=MAG,AG,product_id,promo_flag,promo_discount_perc,base_demand\n",
        "  return X,y"
      ],
      "execution_count": 0,
      "outputs": []
    },
    {
      "cell_type": "code",
      "metadata": {
        "id": "rrIPZKXxphNh",
        "colab_type": "code",
        "colab": {}
      },
      "source": [
        "def test_preprocess_data(dataset):\n",
        "\n",
        "  product_id=tf.cast(dataset['product_id'],dtype=tf.float32)\n",
        "  MAG=tf.cast(dataset['MAG'],dtype=tf.float32)\n",
        "  AG=tf.cast(dataset['AG'],dtype=tf.float32)\n",
        "  promo_flag=tf.cast(dataset['promo_flag'],dtype=tf.float32)\n",
        "  promo_discount_perc=tf.cast(dataset['promo_discount_perc'],dtype=tf.float32)\n",
        "  base_demand=tf.cast(dataset['base_demand'],dtype=tf.float32)\n",
        "  ordered_units=tf.cast(dataset['ordered_units'],dtype=tf.float32)\n",
        "  num_dat=tf.stack([promo_flag,promo_discount_perc,base_demand],axis=1)\n",
        "  # X=MAG,AG,product_id,promo_flag,promo_discount_perc,base_demand\n",
        "\n",
        "  X=MAG,AG,product_id,num_dat\n",
        "  y=ordered_units \n",
        "  # X=MAG,AG,product_id,promo_flag,promo_discount_perc,base_demand\n",
        "  return MAG,AG,product_id,num_dat"
      ],
      "execution_count": 0,
      "outputs": []
    },
    {
      "cell_type": "code",
      "metadata": {
        "id": "AVNJgzP-pEYp",
        "colab_type": "code",
        "colab": {}
      },
      "source": [
        "#Preparing dataset\n",
        "dataset= tf.data.Dataset.from_tensor_slices(dict(df_train))\n",
        "dataset=dataset.batch(8, drop_remainder=True)\n",
        "dataset=dataset.map(preprocess_data)"
      ],
      "execution_count": 0,
      "outputs": []
    },
    {
      "cell_type": "code",
      "metadata": {
        "id": "TeuGAX2opFf1",
        "colab_type": "code",
        "colab": {}
      },
      "source": [
        "#Preparing dataset\n",
        "test_dataset= tf.data.Dataset.from_tensor_slices(dict(df_test))\n",
        "test_dataset=test_dataset.batch(8, drop_remainder=True)\n",
        "test_dataset=test_dataset.map(preprocess_data)"
      ],
      "execution_count": 0,
      "outputs": []
    },
    {
      "cell_type": "code",
      "metadata": {
        "id": "UWZ-pdcxoYPQ",
        "colab_type": "code",
        "colab": {}
      },
      "source": [
        "callbacks=[EarlyStopping(monitor='val_loss', patience=5)]"
      ],
      "execution_count": 0,
      "outputs": []
    },
    {
      "cell_type": "code",
      "metadata": {
        "id": "AcR45LoPxlL0",
        "colab_type": "code",
        "colab": {}
      },
      "source": [
        "mag=Input(shape=(1,),name='MAG')\n",
        "mag_dense = Dense(5, activation='relu',name='MAG_dense')(mag)\n",
        "\n",
        "ag=Input(shape=(1,),name='AG')\n",
        "ag_dense = Dense(7, activation='relu',name='AG_dense')(ag)\n",
        "\n",
        "product_id=Input(shape=(1,),name='product_id')\n",
        "product_id_dense = Dense(20, activation='relu',name='product_id_dense')(product_id)\n",
        "\n",
        "num_dat=Input(shape=(3,),name='num_dat')\n",
        "num_dat_dense = Dense(20, activation='relu',name='num_dat_dense')(num_dat)\n",
        "\n",
        "\n",
        "concat_layer = concatenate([mag_dense,ag_dense,product_id_dense,num_dat_dense])\n",
        "# concat_layer = concatenate([mag_dense,ag_dense])\n",
        "\n",
        "dense_1 = Dense(100, activation='relu',kernel_regularizer=regularizers.l2(0.0001), name='dense_1')(concat_layer)\n",
        "drop_x_1 = Dropout(0.2)(dense_1)\n",
        "dense_2 = Dense(50, activation='relu',kernel_regularizer=regularizers.l2(0.0001), name='dense_2')(drop_x_1)\n",
        "drop_x_2 = Dropout(0.2)(dense_1)\n",
        "output = Dense(1, activation='linear',kernel_regularizer=regularizers.l2(0.0001), name='output')(drop_x_2)\n",
        "\n",
        "\n",
        "\n",
        "\n",
        "input_var=[mag,ag,product_id,num_dat]\n",
        "\n",
        "model = Model(inputs=input_var,outputs=output)\n",
        "model.compile(loss='mean_squared_error', optimizer='Adam',metrics=['mse','mape'])\n"
      ],
      "execution_count": 0,
      "outputs": []
    },
    {
      "cell_type": "code",
      "metadata": {
        "id": "r7hrGgUwEbWt",
        "colab_type": "code",
        "outputId": "fd295cd6-e5af-4672-b3cf-6ab84757327d",
        "colab": {
          "base_uri": "https://localhost:8080/",
          "height": 673
        }
      },
      "source": [
        "model.summary()"
      ],
      "execution_count": 0,
      "outputs": [
        {
          "output_type": "stream",
          "text": [
            "Model: \"model\"\n",
            "__________________________________________________________________________________________________\n",
            "Layer (type)                    Output Shape         Param #     Connected to                     \n",
            "==================================================================================================\n",
            "MAG (InputLayer)                [(None, 1)]          0                                            \n",
            "__________________________________________________________________________________________________\n",
            "AG (InputLayer)                 [(None, 1)]          0                                            \n",
            "__________________________________________________________________________________________________\n",
            "product_id (InputLayer)         [(None, 1)]          0                                            \n",
            "__________________________________________________________________________________________________\n",
            "num_dat (InputLayer)            [(None, 3)]          0                                            \n",
            "__________________________________________________________________________________________________\n",
            "MAG_dense (Dense)               (None, 5)            10          MAG[0][0]                        \n",
            "__________________________________________________________________________________________________\n",
            "AG_dense (Dense)                (None, 7)            14          AG[0][0]                         \n",
            "__________________________________________________________________________________________________\n",
            "product_id_dense (Dense)        (None, 20)           40          product_id[0][0]                 \n",
            "__________________________________________________________________________________________________\n",
            "num_dat_dense (Dense)           (None, 20)           80          num_dat[0][0]                    \n",
            "__________________________________________________________________________________________________\n",
            "concatenate (Concatenate)       (None, 52)           0           MAG_dense[0][0]                  \n",
            "                                                                 AG_dense[0][0]                   \n",
            "                                                                 product_id_dense[0][0]           \n",
            "                                                                 num_dat_dense[0][0]              \n",
            "__________________________________________________________________________________________________\n",
            "dense_1 (Dense)                 (None, 100)          5300        concatenate[0][0]                \n",
            "__________________________________________________________________________________________________\n",
            "dropout_1 (Dropout)             (None, 100)          0           dense_1[0][0]                    \n",
            "__________________________________________________________________________________________________\n",
            "output (Dense)                  (None, 1)            101         dropout_1[0][0]                  \n",
            "==================================================================================================\n",
            "Total params: 5,545\n",
            "Trainable params: 5,545\n",
            "Non-trainable params: 0\n",
            "__________________________________________________________________________________________________\n"
          ],
          "name": "stdout"
        }
      ]
    },
    {
      "cell_type": "code",
      "metadata": {
        "id": "EHi5fCVyE_dL",
        "colab_type": "code",
        "outputId": "3429d1c8-aea6-4f2f-bafb-0d556aea03f7",
        "colab": {
          "base_uri": "https://localhost:8080/",
          "height": 664
        }
      },
      "source": [
        "plot_model(model, 'my_first_model.png',show_shapes=True)"
      ],
      "execution_count": 0,
      "outputs": [
        {
          "output_type": "execute_result",
          "data": {
            "image/png": "[encoded data removed]",
            "text/plain": [
              "<IPython.core.display.Image object>"
            ]
          },
          "metadata": {
            "tags": []
          },
          "execution_count": 16
        }
      ]
    },
    {
      "cell_type": "code",
      "metadata": {
        "id": "GsDQCRbWpN1s",
        "colab_type": "code",
        "colab": {}
      },
      "source": [
        "cat_cols=['product_id','MAG','AG']\n",
        "num_cols=['promo_discount_perc','promo_flag','base_demand']"
      ],
      "execution_count": 0,
      "outputs": []
    },
    {
      "cell_type": "code",
      "metadata": {
        "id": "pXcwOUGKrlSE",
        "colab_type": "code",
        "outputId": "b8104010-f5ed-4afd-bb9f-9cacc8a78a51",
        "colab": {
          "base_uri": "https://localhost:8080/",
          "height": 1000
        }
      },
      "source": [
        "\n",
        "# Fit model\n",
        "model.fit(dataset,epochs=30,validation_data=test_dataset)\n"
      ],
      "execution_count": 0,
      "outputs": [
        {
          "output_type": "stream",
          "text": [
            "Train for 1537 steps, validate for 381 steps\n",
            "Epoch 1/30\n",
            "1537/1537 [==============================] - 6s 4ms/step - loss: 351199.8655 - mse: 351199.5625 - mape: 58616930304.0000 - val_loss: 347977.5838 - val_mse: 347977.5625 - val_mape: 9580850176.0000\n",
            "Epoch 2/30\n",
            "1537/1537 [==============================] - 5s 3ms/step - loss: 288795.6478 - mse: 288795.5938 - mape: 29554378752.0000 - val_loss: 334034.9736 - val_mse: 334034.7500 - val_mape: 5192469504.0000\n",
            "Epoch 3/30\n",
            "1537/1537 [==============================] - 5s 3ms/step - loss: 279926.5812 - mse: 279926.7812 - mape: 19062626304.0000 - val_loss: 331051.6201 - val_mse: 331051.7500 - val_mape: 9974709248.0000\n",
            "Epoch 4/30\n",
            "1537/1537 [==============================] - 5s 3ms/step - loss: 272938.6332 - mse: 272938.7500 - mape: 14877221888.0000 - val_loss: 332690.7965 - val_mse: 332690.7812 - val_mape: 6596320768.0000\n",
            "Epoch 5/30\n",
            "1537/1537 [==============================] - 5s 3ms/step - loss: 273093.1612 - mse: 273093.1562 - mape: 10826417152.0000 - val_loss: 328786.9065 - val_mse: 328786.8438 - val_mape: 5871976960.0000\n",
            "Epoch 6/30\n",
            "1537/1537 [==============================] - 5s 3ms/step - loss: 270653.4083 - mse: 270653.3125 - mape: 9238994944.0000 - val_loss: 328707.5487 - val_mse: 328707.3438 - val_mape: 4315274240.0000\n",
            "Epoch 7/30\n",
            "1537/1537 [==============================] - 5s 3ms/step - loss: 266692.6903 - mse: 266692.0625 - mape: 7442840064.0000 - val_loss: 325145.7673 - val_mse: 325145.8750 - val_mape: 4494225920.0000\n",
            "Epoch 8/30\n",
            "1537/1537 [==============================] - 5s 3ms/step - loss: 266834.6702 - mse: 266834.3750 - mape: 6299062272.0000 - val_loss: 322200.2209 - val_mse: 322200.1562 - val_mape: 4471107072.0000\n",
            "Epoch 9/30\n",
            "1537/1537 [==============================] - 5s 3ms/step - loss: 261616.2660 - mse: 261615.9688 - mape: 5308177920.0000 - val_loss: 326875.1161 - val_mse: 326875.0312 - val_mape: 4674476032.0000\n",
            "Epoch 10/30\n",
            "1537/1537 [==============================] - 4s 3ms/step - loss: 252503.7999 - mse: 252503.7344 - mape: 5649179136.0000 - val_loss: 351980.0003 - val_mse: 351979.8125 - val_mape: 4727223296.0000\n",
            "Epoch 11/30\n",
            "1537/1537 [==============================] - 5s 3ms/step - loss: 253669.8244 - mse: 253669.7656 - mape: 5422420992.0000 - val_loss: 325205.9772 - val_mse: 325205.9375 - val_mape: 4954419200.0000\n",
            "Epoch 12/30\n",
            "1537/1537 [==============================] - 5s 3ms/step - loss: 253046.3796 - mse: 253046.1719 - mape: 6484886528.0000 - val_loss: 333036.5849 - val_mse: 333036.4375 - val_mape: 5443401728.0000\n",
            "Epoch 13/30\n",
            "1537/1537 [==============================] - 5s 3ms/step - loss: 249699.0706 - mse: 249698.6875 - mape: 6350428672.0000 - val_loss: 338452.4982 - val_mse: 338452.3750 - val_mape: 5593234432.0000\n",
            "Epoch 14/30\n",
            "1537/1537 [==============================] - 5s 3ms/step - loss: 253679.2670 - mse: 253679.4219 - mape: 6717731840.0000 - val_loss: 333067.5407 - val_mse: 333067.5625 - val_mape: 5567901184.0000\n",
            "Epoch 15/30\n",
            "1537/1537 [==============================] - 5s 3ms/step - loss: 252132.2160 - mse: 252132.0938 - mape: 6389578240.0000 - val_loss: 325844.8900 - val_mse: 325844.7500 - val_mape: 5472056320.0000\n",
            "Epoch 16/30\n",
            "1537/1537 [==============================] - 5s 3ms/step - loss: 242556.7107 - mse: 242556.6719 - mape: 6663835648.0000 - val_loss: 346417.3796 - val_mse: 346417.4062 - val_mape: 4977093120.0000\n",
            "Epoch 17/30\n",
            "1537/1537 [==============================] - 5s 3ms/step - loss: 245407.4612 - mse: 245407.4219 - mape: 6677498880.0000 - val_loss: 329902.3743 - val_mse: 329902.3125 - val_mape: 4711353344.0000\n",
            "Epoch 18/30\n",
            "1537/1537 [==============================] - 4s 3ms/step - loss: 246880.4668 - mse: 246880.1875 - mape: 7133755392.0000 - val_loss: 335267.5606 - val_mse: 335267.5625 - val_mape: 6784318976.0000\n",
            "Epoch 19/30\n",
            "1537/1537 [==============================] - 5s 3ms/step - loss: 242733.7990 - mse: 242733.6094 - mape: 7064364544.0000 - val_loss: 331862.1447 - val_mse: 331861.8750 - val_mape: 5955439616.0000\n",
            "Epoch 20/30\n",
            "1537/1537 [==============================] - 5s 3ms/step - loss: 253635.6374 - mse: 253635.3750 - mape: 10002476032.0000 - val_loss: 335441.5328 - val_mse: 335441.4375 - val_mape: 5718807040.0000\n",
            "Epoch 21/30\n",
            "1537/1537 [==============================] - 5s 3ms/step - loss: 243551.4594 - mse: 243551.2031 - mape: 7999923200.0000 - val_loss: 341529.6002 - val_mse: 341529.4375 - val_mape: 6223096832.0000\n",
            "Epoch 22/30\n",
            "1537/1537 [==============================] - 5s 3ms/step - loss: 246136.5749 - mse: 246136.6719 - mape: 7033021440.0000 - val_loss: 319589.4784 - val_mse: 319589.5625 - val_mape: 5772953088.0000\n",
            "Epoch 23/30\n",
            "1537/1537 [==============================] - 5s 3ms/step - loss: 242867.0398 - mse: 242867.0469 - mape: 6546649600.0000 - val_loss: 325396.8558 - val_mse: 325396.7812 - val_mape: 5936494592.0000\n",
            "Epoch 24/30\n",
            "1537/1537 [==============================] - 5s 3ms/step - loss: 239900.5935 - mse: 239900.2344 - mape: 6486666240.0000 - val_loss: 328864.7989 - val_mse: 328864.7500 - val_mape: 6375732736.0000\n",
            "Epoch 25/30\n",
            "1537/1537 [==============================] - 5s 3ms/step - loss: 241775.2281 - mse: 241775.0312 - mape: 6250163200.0000 - val_loss: 336529.5219 - val_mse: 336529.3438 - val_mape: 6197012480.0000\n",
            "Epoch 26/30\n",
            "1537/1537 [==============================] - 6s 4ms/step - loss: 244828.5835 - mse: 244828.5156 - mape: 6986357760.0000 - val_loss: 325476.1620 - val_mse: 325476.0312 - val_mape: 5800658944.0000\n",
            "Epoch 27/30\n",
            "1537/1537 [==============================] - 5s 3ms/step - loss: 252218.1036 - mse: 252217.9062 - mape: 6926170112.0000 - val_loss: 313873.5537 - val_mse: 313873.4375 - val_mape: 5861355520.0000\n",
            "Epoch 28/30\n",
            "1537/1537 [==============================] - 6s 4ms/step - loss: 249170.1620 - mse: 249170.2344 - mape: 6115866112.0000 - val_loss: 315806.5968 - val_mse: 315806.5625 - val_mape: 5380096000.0000\n",
            "Epoch 29/30\n",
            "1537/1537 [==============================] - 5s 4ms/step - loss: 243620.9828 - mse: 243620.7500 - mape: 6480808448.0000 - val_loss: 322621.3048 - val_mse: 322621.2188 - val_mape: 5392779776.0000\n",
            "Epoch 30/30\n",
            "1537/1537 [==============================] - 5s 3ms/step - loss: 245995.4078 - mse: 245995.2500 - mape: 6582051840.0000 - val_loss: 315990.7886 - val_mse: 315990.8438 - val_mape: 5824463360.0000\n"
          ],
          "name": "stdout"
        },
        {
          "output_type": "execute_result",
          "data": {
            "text/plain": [
              "<tensorflow.python.keras.callbacks.History at 0x7feb512ed860>"
            ]
          },
          "metadata": {
            "tags": []
          },
          "execution_count": 18
        }
      ]
    },
    {
      "cell_type": "code",
      "metadata": {
        "id": "LtbBjagApUHC",
        "colab_type": "code",
        "outputId": "7d008447-5527-4fe6-91c1-271be05ce601",
        "colab": {
          "base_uri": "https://localhost:8080/",
          "height": 36
        }
      },
      "source": [
        "#Train r2_score\n",
        "y_train_pred=model.predict(dataset)\n",
        "y_train=df_train['ordered_units'][:len(y_train_pred)]\n",
        "y_train_pred[y_train_pred<0]=0\n",
        "print(\"Train r2_score\",r2_score(y_train,y_train_pred))"
      ],
      "execution_count": 0,
      "outputs": [
        {
          "output_type": "stream",
          "text": [
            "Train r2_score 0.6901536518648532\n"
          ],
          "name": "stdout"
        }
      ]
    },
    {
      "cell_type": "code",
      "metadata": {
        "id": "7ZZxu7w7v7Hf",
        "colab_type": "code",
        "outputId": "d4271f5e-08a8-4ac9-ad79-591ece0d8d98",
        "colab": {
          "base_uri": "https://localhost:8080/",
          "height": 36
        }
      },
      "source": [
        "#Test r2_score\n",
        "y_test_pred=model.predict(test_dataset)\n",
        "y_test=df_test['ordered_units'][:len(y_test_pred)]\n",
        "y_test_pred[y_test_pred<0]=0\n",
        "r2_score(y_test,y_test_pred)"
      ],
      "execution_count": 0,
      "outputs": [
        {
          "output_type": "execute_result",
          "data": {
            "text/plain": [
              "0.6678474736462908"
            ]
          },
          "metadata": {
            "tags": []
          },
          "execution_count": 22
        }
      ]
    }
  ]
}